{
 "cells": [
  {
   "cell_type": "code",
   "execution_count": null,
   "id": "2f5f2e86-4d1b-4ff4-bd56-0476cc32a512",
   "metadata": {
    "tags": []
   },
   "outputs": [],
   "source": [
    "#Me interesa saber cómo ha variado la experimentación de la corrupción en los peruanos del año 2019-2021"
   ]
  },
  {
   "cell_type": "code",
   "execution_count": 1,
   "id": "abddf580-d790-43ec-b8b7-7fbe55149c99",
   "metadata": {
    "tags": []
   },
   "outputs": [],
   "source": [
    "# Importar bibliotecas\n",
    "# Estas bibliotecas se utilizan para la manipulación de datos, cálculos estadísticos y visualización\n",
    "import pandas as pd\n",
    "import numpy as np\n",
    "import matplotlib.pyplot as plt\n",
    "import seaborn as sns\n",
    "from statsmodels.stats.weightstats import DescrStatsW  # Para estadísticas ponderadas"
   ]
  },
  {
   "cell_type": "code",
   "execution_count": 50,
   "id": "90963652-0756-4939-bc04-a40734c79cf6",
   "metadata": {
    "tags": []
   },
   "outputs": [
    {
     "name": "stderr",
     "output_type": "stream",
     "text": [
      "C:\\Users\\Yoga Slim 7\\AppData\\Local\\Temp\\ipykernel_33216\\3561646327.py:2: DtypeWarning: Columns (200) have mixed types. Specify dtype option on import or set low_memory=False.\n",
      "  data_2019_1 = pd.read_csv(\"C:/Users/Yoga Slim 7/Downloads/datos_enaho/Enaho01B-2019-1.csv\", encoding='latin-1')\n",
      "C:\\Users\\Yoga Slim 7\\AppData\\Local\\Temp\\ipykernel_33216\\3561646327.py:3: DtypeWarning: Columns (10,15,325) have mixed types. Specify dtype option on import or set low_memory=False.\n",
      "  data_2020_1 = pd.read_csv(\"C:/Users/Yoga Slim 7/Downloads/datos_enaho/Enaho01B-2020-1.csv\", encoding='latin-1')\n",
      "C:\\Users\\Yoga Slim 7\\AppData\\Local\\Temp\\ipykernel_33216\\3561646327.py:4: DtypeWarning: Columns (10) have mixed types. Specify dtype option on import or set low_memory=False.\n",
      "  data_2021_1 = pd.read_csv(\"C:/Users/Yoga Slim 7/Downloads/datos_enaho/Enaho01B-2021-1.csv\", encoding='latin-1')\n",
      "C:\\Users\\Yoga Slim 7\\AppData\\Local\\Temp\\ipykernel_33216\\3561646327.py:5: DtypeWarning: Columns (51) have mixed types. Specify dtype option on import or set low_memory=False.\n",
      "  data_2019_2 = pd.read_csv(\"C:/Users/Yoga Slim 7/Downloads/datos_enaho/Enaho01B-2019-2.csv\", encoding='latin-1')\n",
      "C:\\Users\\Yoga Slim 7\\AppData\\Local\\Temp\\ipykernel_33216\\3561646327.py:6: DtypeWarning: Columns (10,50,51,52,93,97) have mixed types. Specify dtype option on import or set low_memory=False.\n",
      "  data_2020_2 = pd.read_csv(\"C:/Users/Yoga Slim 7/Downloads/datos_enaho/Enaho01B-2020-2.csv\", encoding='latin-1')\n",
      "C:\\Users\\Yoga Slim 7\\AppData\\Local\\Temp\\ipykernel_33216\\3561646327.py:7: DtypeWarning: Columns (10,50,51,52,96) have mixed types. Specify dtype option on import or set low_memory=False.\n",
      "  data_2021_2 = pd.read_csv(\"C:/Users/Yoga Slim 7/Downloads/datos_enaho/Enaho01B-2021-2.csv\", encoding='latin-1')\n"
     ]
    }
   ],
   "source": [
    "# Aquí se cargan los archivos correspondientes a los años 2019, 2020 y 2021, que contienen los datos de la ENAHO.\n",
    "data_2019_1 = pd.read_csv(\"C:/Users/Yoga Slim 7/Downloads/datos_enaho/Enaho01B-2019-1.csv\", encoding='latin-1')\n",
    "data_2020_1 = pd.read_csv(\"C:/Users/Yoga Slim 7/Downloads/datos_enaho/Enaho01B-2020-1.csv\", encoding='latin-1')\n",
    "data_2021_1 = pd.read_csv(\"C:/Users/Yoga Slim 7/Downloads/datos_enaho/Enaho01B-2021-1.csv\", encoding='latin-1')\n",
    "data_2019_2 = pd.read_csv(\"C:/Users/Yoga Slim 7/Downloads/datos_enaho/Enaho01B-2019-2.csv\", encoding='latin-1')\n",
    "data_2020_2 = pd.read_csv(\"C:/Users/Yoga Slim 7/Downloads/datos_enaho/Enaho01B-2020-2.csv\", encoding='latin-1')\n",
    "data_2021_2 = pd.read_csv(\"C:/Users/Yoga Slim 7/Downloads/datos_enaho/Enaho01B-2021-2.csv\", encoding='latin-1')\n",
    "\n",
    "# Convertir los nombres de las columnas a minúsculas para facilitar el manejo de datos.\n",
    "data_2019_1.columns = data_2019_1.columns.str.lower()\n",
    "data_2020_1.columns = data_2020_1.columns.str.lower()\n",
    "data_2021_1.columns = data_2021_1.columns.str.lower()\n",
    "data_2019_2.columns = data_2019_2.columns.str.lower()\n",
    "data_2020_2.columns = data_2020_2.columns.str.lower()\n",
    "data_2021_2.columns = data_2021_2.columns.str.lower()"
   ]
  },
  {
   "cell_type": "code",
   "execution_count": 3,
   "id": "5cead671-df46-4f07-9984-b3a157b226a6",
   "metadata": {},
   "outputs": [],
   "source": [
    "# Diccionario de variables utilizadas en el análisis\n",
    "# 1. `codinfor`: Código de informante.\n",
    "#    - Tipo: Categórica\n",
    "#    - Rango: ≥ 1\n",
    "# 2. `p204`: ¿Es miembro del hogar?\n",
    "#    - Tipo: Categórica\n",
    "#    - Códigos:\n",
    "#      - 1: Sí\n",
    "#      - 2: No\n",
    "# 3. `año`: Año de la encuesta.\n",
    "#    - Tipo: Numérica (entera)\n",
    "# 4. `famiegob07`: Factor de ponderación para años antes de 2020.\n",
    "#    - Tipo: Numérica (float)\n",
    "# 5. `facgob_p`: Factor de ponderación para 2020 en adelante.\n",
    "#    - Tipo: Numérica (float)\n",
    "# 6. `p2b_01`: ¿Ha realizado trámites en la Municipalidad Distrital?\n",
    "#    - Tipo: Categórica\n",
    "#    - Códigos:\n",
    "#      - 1: Sí\n",
    "#      - 2: No\n",
    "# 7. `p2b_02`: ¿Ha realizado trámites en la Municipalidad Provincial?\n",
    "#    - Tipo: Categórica\n",
    "#    - Códigos:\n",
    "#      - 1: Sí\n",
    "#      - 2: No\n",
    "# 8. `p2b_03`: ¿Ha realizado trámites en el Poder Judicial?\n",
    "#    - Tipo: Categórica\n",
    "#    - Códigos:\n",
    "#      - 1: Sí\n",
    "#      - 2: No\n",
    "# 9. `p2c_01`: ¿Le solicitaron dar o ofreció voluntariamente en la Municipalidad Distrital?\n",
    "#    - Tipo: Categórica\n",
    "#    - Códigos:\n",
    "#      - 1: Sí, le solicitaron dar y dio.\n",
    "#      - 2: Sí, le solicitaron dar y no dio.\n",
    "#      - 3: No, pero dio voluntariamente.\n",
    "#      - 4: No le solicitaron.\n",
    "# 10. `p2c_02`: ¿Le solicitaron dar o ofreció voluntariamente en la Municipalidad Provincial?\n",
    "#     - Tipo: Categórica\n",
    "#     - Códigos:\n",
    "#       - 1: Sí, le solicitaron dar y dio.\n",
    "#       - 2: Sí, le solicitaron dar y no dio.\n",
    "#       - 3: No, pero dio voluntariamente.\n",
    "#       - 4: No le solicitaron.\n",
    "# 11. `p2c_03`: ¿Le solicitaron dar o ofreció voluntariamente en el Poder Judicial?\n",
    "#     - Tipo: Categórica\n",
    "#     - Códigos:\n",
    "#       - 1: Sí, le solicitaron dar y dio.\n",
    "#       - 2: Sí, le solicitaron dar y no dio.\n",
    "#       - 3: No, pero dio voluntariamente.\n",
    "#       - 4: No le solicitaron."
   ]
  },
  {
   "cell_type": "code",
   "execution_count": 51,
   "id": "ff8f3296-acdc-497e-85e5-56d46f6ae141",
   "metadata": {
    "tags": []
   },
   "outputs": [],
   "source": [
    "# Unir los datos en un DataFrame\n",
    "# Se concatenan los datos de los tres años en un único DataFrame para facilitar el análisis.\n",
    "data = pd.concat([data_2019_1, data_2020_1, data_2021_1, data_2019_2, data_2020_2, data_2021_2], ignore_index=True)"
   ]
  },
  {
   "cell_type": "code",
   "execution_count": 52,
   "id": "f03a9fb2-2322-490a-9640-0b67b0f199e8",
   "metadata": {
    "tags": []
   },
   "outputs": [
    {
     "name": "stdout",
     "output_type": "stream",
     "text": [
      "Index(['año', 'mes', 'nconglome', 'conglome', 'vivienda', 'hogar', 'codperso',\n",
      "       'codinfor', 'ubigeo', 'dominio',\n",
      "       ...\n",
      "       'p203_02', 'p204_02', 'p205_02', 'p206_02', 'p207_02', 'p208_02',\n",
      "       'p209_02', 'p301_02', 'factor07', 'factor_p'],\n",
      "      dtype='object', length=435)\n"
     ]
    }
   ],
   "source": [
    "print(data.columns)"
   ]
  },
  {
   "cell_type": "code",
   "execution_count": 53,
   "id": "37ac8247-86a9-474b-b591-3403aedd8a60",
   "metadata": {
    "tags": []
   },
   "outputs": [
    {
     "name": "stdout",
     "output_type": "stream",
     "text": [
      "         año  mes  nconglome  conglome  vivienda  hogar  codperso  codinfor  \\\n",
      "0       2019    1       7076      5009        41     11         2         2   \n",
      "1       2019    1       7076      5009        56     11         1         1   \n",
      "2       2019    1       7076      5009        84     11         1         1   \n",
      "3       2019    1       7076      5009        98     11         1         1   \n",
      "4       2019    1       7089      5015        18     11         4         4   \n",
      "...      ...  ...        ...       ...       ...    ...       ...       ...   \n",
      "206595  2021   10      40612     21001        47     11         2         2   \n",
      "206596  2021   10      40612     21001        48     11         1         1   \n",
      "206597  2021   10      40612     21001        50     11         1         1   \n",
      "206598  2021   10      40612     21001        54     11         1         1   \n",
      "206599  2021   10      40612     21001        56     11         1         1   \n",
      "\n",
      "        ubigeo  dominio  ...  p203_02 p204_02 p205_02 p206_02 p207_02 p208_02  \\\n",
      "0        10101        4  ...      NaN     NaN     NaN     NaN     NaN     NaN   \n",
      "1        10101        4  ...      NaN     NaN     NaN     NaN     NaN     NaN   \n",
      "2        10101        4  ...      NaN     NaN     NaN     NaN     NaN     NaN   \n",
      "3        10101        4  ...      NaN     NaN     NaN     NaN     NaN     NaN   \n",
      "4        10101        4  ...      NaN     NaN     NaN     NaN     NaN     NaN   \n",
      "...        ...      ...  ...      ...     ...     ...     ...     ...     ...   \n",
      "206595  210903        6  ...        2       1       2               2      38   \n",
      "206596  210903        6  ...        1       1       2               1      45   \n",
      "206597  210903        6  ...        1       1       2               1      78   \n",
      "206598  210903        6  ...        1       1       2               2      51   \n",
      "206599  210903        6  ...        1       1       2               1      65   \n",
      "\n",
      "       p209_02 p301_02    factor07    factor_p  \n",
      "0          NaN     NaN         NaN         NaN  \n",
      "1          NaN     NaN         NaN         NaN  \n",
      "2          NaN     NaN         NaN         NaN  \n",
      "3          NaN     NaN         NaN         NaN  \n",
      "4          NaN     NaN         NaN         NaN  \n",
      "...        ...     ...         ...         ...  \n",
      "206595       2       3  367.980389  368.872368  \n",
      "206596       2       5  367.980389  368.872368  \n",
      "206597       2       1  367.980389  368.872368  \n",
      "206598       1       3  367.980389  368.872368  \n",
      "206599       2       4  367.980389  368.872368  \n",
      "\n",
      "[206600 rows x 435 columns]\n"
     ]
    }
   ],
   "source": [
    "print(data)"
   ]
  },
  {
   "cell_type": "code",
   "execution_count": 54,
   "id": "d4593fea-3d49-43c2-8725-485749eab130",
   "metadata": {
    "tags": []
   },
   "outputs": [
    {
     "name": "stderr",
     "output_type": "stream",
     "text": [
      "C:\\Users\\Yoga Slim 7\\AppData\\Local\\Temp\\ipykernel_33216\\2844319090.py:3: PerformanceWarning: DataFrame is highly fragmented.  This is usually the result of calling `frame.insert` many times, which has poor performance.  Consider joining all columns at once using pd.concat(axis=1) instead. To get a de-fragmented frame, use `newframe = frame.copy()`\n",
      "  data['anio'] = data['año'].astype(int)\n"
     ]
    }
   ],
   "source": [
    "# Crear variable `anio`\n",
    "# Se genera una columna para identificar el año de cada observación.\n",
    "data['anio'] = data['año'].astype(int)"
   ]
  },
  {
   "cell_type": "code",
   "execution_count": 55,
   "id": "d333a108-e354-416b-8022-6d2f9787a626",
   "metadata": {
    "tags": []
   },
   "outputs": [
    {
     "name": "stderr",
     "output_type": "stream",
     "text": [
      "C:\\Users\\Yoga Slim 7\\AppData\\Local\\Temp\\ipykernel_33216\\245369520.py:3: PerformanceWarning: DataFrame is highly fragmented.  This is usually the result of calling `frame.insert` many times, which has poor performance.  Consider joining all columns at once using pd.concat(axis=1) instead. To get a de-fragmented frame, use `newframe = frame.copy()`\n",
      "  data['nfactor'] = data['famiegob07']\n"
     ]
    }
   ],
   "source": [
    "# Ajustar el factor de ponderación\n",
    "# La columna 'nfactor' se ajusta dependiendo del año para reflejar los pesos muestrales correctos.\n",
    "data['nfactor'] = data['famiegob07']\n",
    "data.loc[data['anio'] >= 2020, 'nfactor'] = data['facgob_p']\n"
   ]
  },
  {
   "cell_type": "code",
   "execution_count": 56,
   "id": "05c288ae-c1aa-4229-9165-567d4269b635",
   "metadata": {
    "tags": []
   },
   "outputs": [
    {
     "name": "stdout",
     "output_type": "stream",
     "text": [
      "         año  mes  nconglome  conglome  vivienda  hogar  codperso  codinfor  \\\n",
      "0       2019    1       7076      5009        41     11         2         2   \n",
      "1       2019    1       7076      5009        56     11         1         1   \n",
      "2       2019    1       7076      5009        84     11         1         1   \n",
      "3       2019    1       7076      5009        98     11         1         1   \n",
      "4       2019    1       7089      5015        18     11         4         4   \n",
      "...      ...  ...        ...       ...       ...    ...       ...       ...   \n",
      "206595  2021   10      40612     21001        47     11         2         2   \n",
      "206596  2021   10      40612     21001        48     11         1         1   \n",
      "206597  2021   10      40612     21001        50     11         1         1   \n",
      "206598  2021   10      40612     21001        54     11         1         1   \n",
      "206599  2021   10      40612     21001        56     11         1         1   \n",
      "\n",
      "        ubigeo  dominio  ...  p205_02 p206_02 p207_02 p208_02 p209_02 p301_02  \\\n",
      "0        10101        4  ...      NaN     NaN     NaN     NaN     NaN     NaN   \n",
      "1        10101        4  ...      NaN     NaN     NaN     NaN     NaN     NaN   \n",
      "2        10101        4  ...      NaN     NaN     NaN     NaN     NaN     NaN   \n",
      "3        10101        4  ...      NaN     NaN     NaN     NaN     NaN     NaN   \n",
      "4        10101        4  ...      NaN     NaN     NaN     NaN     NaN     NaN   \n",
      "...        ...      ...  ...      ...     ...     ...     ...     ...     ...   \n",
      "206595  210903        6  ...        2               2      38       2       3   \n",
      "206596  210903        6  ...        2               1      45       2       5   \n",
      "206597  210903        6  ...        2               1      78       2       1   \n",
      "206598  210903        6  ...        2               2      51       1       3   \n",
      "206599  210903        6  ...        2               1      65       2       4   \n",
      "\n",
      "          factor07    factor_p  anio           nfactor  \n",
      "0              NaN         NaN  2019   189.08625793457  \n",
      "1              NaN         NaN  2019  174.897232055664  \n",
      "2              NaN         NaN  2019  94.5431289672852  \n",
      "3              NaN         NaN  2019   189.08625793457  \n",
      "4              NaN         NaN  2019  199.320114135742  \n",
      "...            ...         ...   ...               ...  \n",
      "206595  367.980389  368.872368  2021               NaN  \n",
      "206596  367.980389  368.872368  2021               NaN  \n",
      "206597  367.980389  368.872368  2021               NaN  \n",
      "206598  367.980389  368.872368  2021               NaN  \n",
      "206599  367.980389  368.872368  2021               NaN  \n",
      "\n",
      "[206600 rows x 437 columns]\n"
     ]
    }
   ],
   "source": [
    "print(data)"
   ]
  },
  {
   "cell_type": "code",
   "execution_count": 57,
   "id": "bff3f697-5e47-45a4-ae0e-b00f97372f4b",
   "metadata": {
    "tags": []
   },
   "outputs": [],
   "source": [
    "# Filtrar solo las variables con las que se trabajará\n",
    "data = data[['anio', 'nfactor'] + cols_tramite_utilizadas + cols_corrupcion_utilizadas]"
   ]
  },
  {
   "cell_type": "code",
   "execution_count": 58,
   "id": "665e27db-8bbd-480c-b0d4-9a30c1191bc0",
   "metadata": {
    "tags": []
   },
   "outputs": [
    {
     "name": "stdout",
     "output_type": "stream",
     "text": [
      "Columnas de trámites utilizadas: ['p2b$01', 'p2b$02', 'p2b$03']\n",
      "Columnas de corrupción utilizadas: ['p2c$01', 'p2c$02', 'p2c$03']\n"
     ]
    }
   ],
   "source": [
    "# Crear listas de columnas relacionadas con trámites y corrupción\n",
    "# Estas listas ayudan a identificar las columnas específicas para análisis posteriores.\n",
    "cols_tramite_utilizadas = ['p2b$01', 'p2b$02', 'p2b$03']  # variable para saber si la persona ha realizado trámites en instituciones seleccionadas\n",
    "cols_corrupcion_utilizadas = ['p2c$01', 'p2c$02', 'p2c$03']  # varaiable para saber si hubo corrupción en el tramite en instituciones seleccionadas\n",
    "print(\"Columnas de trámites utilizadas:\", cols_tramite_utilizadas)\n",
    "print(\"Columnas de corrupción utilizadas:\", cols_corrupcion_utilizadas)"
   ]
  },
  {
   "cell_type": "code",
   "execution_count": 59,
   "id": "71c189a8-c4b7-41eb-9b88-e226ae88ce93",
   "metadata": {
    "tags": []
   },
   "outputs": [
    {
     "name": "stdout",
     "output_type": "stream",
     "text": [
      "        anio           nfactor p2b$01 p2b$02 p2b$03 p2c$01 p2c$02 p2c$03\n",
      "0       2019   189.08625793457      2      2      2                     \n",
      "1       2019  174.897232055664      2      2      2                     \n",
      "2       2019  94.5431289672852      2      2      2                     \n",
      "3       2019   189.08625793457      2      2      2                     \n",
      "4       2019  199.320114135742      2      1      1             4      4\n",
      "...      ...               ...    ...    ...    ...    ...    ...    ...\n",
      "206595  2021               NaN    NaN    NaN    NaN    NaN    NaN    NaN\n",
      "206596  2021               NaN    NaN    NaN    NaN    NaN    NaN    NaN\n",
      "206597  2021               NaN    NaN    NaN    NaN    NaN    NaN    NaN\n",
      "206598  2021               NaN    NaN    NaN    NaN    NaN    NaN    NaN\n",
      "206599  2021               NaN    NaN    NaN    NaN    NaN    NaN    NaN\n",
      "\n",
      "[206600 rows x 8 columns]\n",
      "anio        int32\n",
      "nfactor    object\n",
      "p2b$01     object\n",
      "p2b$02     object\n",
      "p2b$03     object\n",
      "p2c$01     object\n",
      "p2c$02     object\n",
      "p2c$03     object\n",
      "dtype: object\n"
     ]
    }
   ],
   "source": [
    "print(data)\n",
    "print(data.dtypes)"
   ]
  },
  {
   "cell_type": "code",
   "execution_count": 60,
   "id": "56410c1e-03a3-4900-8536-86a293dc0a2b",
   "metadata": {
    "tags": []
   },
   "outputs": [],
   "source": [
    "data = data.dropna(subset=cols_tramite_utilizadas)"
   ]
  },
  {
   "cell_type": "code",
   "execution_count": 61,
   "id": "42b6a3ce-77bc-4e35-9cb0-758a7475961e",
   "metadata": {
    "tags": []
   },
   "outputs": [
    {
     "name": "stdout",
     "output_type": "stream",
     "text": [
      "anio         int32\n",
      "nfactor     object\n",
      "p2b$01     float64\n",
      "p2b$02     float64\n",
      "p2b$03     float64\n",
      "p2c$01      object\n",
      "p2c$02      object\n",
      "p2c$03      object\n",
      "dtype: object\n",
      "        anio           nfactor  p2b$01  p2b$02  p2b$03 p2c$01 p2c$02 p2c$03\n",
      "0       2019   189.08625793457     0.0     0.0     0.0                     \n",
      "1       2019  174.897232055664     0.0     0.0     0.0                     \n",
      "2       2019  94.5431289672852     0.0     0.0     0.0                     \n",
      "3       2019   189.08625793457     0.0     0.0     0.0                     \n",
      "4       2019  199.320114135742     0.0     1.0     1.0             4      4\n",
      "...      ...               ...     ...     ...     ...    ...    ...    ...\n",
      "103295  2021  1551.50557596244     0.0     0.0     0.0                     \n",
      "103296  2021  1181.02595147838     0.0     0.0     0.0                     \n",
      "103297  2021   954.03738812405     0.0     0.0     0.0                     \n",
      "103298  2021  868.885668543834     0.0     0.0     0.0                     \n",
      "103299  2021    706.6200700185     0.0     0.0     0.0                     \n",
      "\n",
      "[103300 rows x 8 columns]\n"
     ]
    }
   ],
   "source": [
    "map_values = {'1': 1, '2': 0}\n",
    "# Aplicar el mapeo\n",
    "for col in cols_tramite_utilizadas:\n",
    "    data[col] = data[col].map(map_values)\n",
    "print(data.dtypes)\n",
    "print(data)"
   ]
  },
  {
   "cell_type": "code",
   "execution_count": 84,
   "id": "de4461bf-b19e-4e02-9de4-4b17228abaec",
   "metadata": {
    "tags": []
   },
   "outputs": [
    {
     "name": "stdout",
     "output_type": "stream",
     "text": [
      "anio                  int32\n",
      "nfactor              object\n",
      "p2b$01              float64\n",
      "p2b$02              float64\n",
      "p2b$03              float64\n",
      "p2c$01              float64\n",
      "p2c$02              float64\n",
      "p2c$03              float64\n",
      "nivel_corrupcion     object\n",
      "dtype: object\n",
      "        anio           nfactor  p2b$01  p2b$02  p2b$03  p2c$01  p2c$02  \\\n",
      "0       2019   189.08625793457     0.0     0.0     0.0     NaN     NaN   \n",
      "1       2019  174.897232055664     0.0     0.0     0.0     NaN     NaN   \n",
      "2       2019  94.5431289672852     0.0     0.0     0.0     NaN     NaN   \n",
      "3       2019   189.08625793457     0.0     0.0     0.0     NaN     NaN   \n",
      "4       2019  199.320114135742     0.0     1.0     1.0     NaN     NaN   \n",
      "...      ...               ...     ...     ...     ...     ...     ...   \n",
      "103295  2021  1551.50557596244     0.0     0.0     0.0     NaN     NaN   \n",
      "103296  2021  1181.02595147838     0.0     0.0     0.0     NaN     NaN   \n",
      "103297  2021   954.03738812405     0.0     0.0     0.0     NaN     NaN   \n",
      "103298  2021  868.885668543834     0.0     0.0     0.0     NaN     NaN   \n",
      "103299  2021    706.6200700185     0.0     0.0     0.0     NaN     NaN   \n",
      "\n",
      "        p2c$03 nivel_corrupcion  \n",
      "0          NaN    No corrupción  \n",
      "1          NaN    No corrupción  \n",
      "2          NaN    No corrupción  \n",
      "3          NaN    No corrupción  \n",
      "4          NaN    No corrupción  \n",
      "...        ...              ...  \n",
      "103295     NaN    No corrupción  \n",
      "103296     NaN    No corrupción  \n",
      "103297     NaN    No corrupción  \n",
      "103298     NaN    No corrupción  \n",
      "103299     NaN    No corrupción  \n",
      "\n",
      "[103300 rows x 9 columns]\n"
     ]
    }
   ],
   "source": [
    "map_values_corrupcion = {\n",
    "    '1': 1,\n",
    "    '2': 1,\n",
    "    '3': 1,\n",
    "    '4': 0\n",
    "}\n",
    "\n",
    "for col in cols_corrupcion_utilizadas:\n",
    "    data[col] = data[col].map(map_values_corrupcion)\n",
    "\n",
    "print(data.dtypes)\n",
    "print(data)"
   ]
  },
  {
   "cell_type": "code",
   "execution_count": 85,
   "id": "e2348076-1431-4265-ab94-a44b862ea67b",
   "metadata": {
    "tags": []
   },
   "outputs": [
    {
     "name": "stdout",
     "output_type": "stream",
     "text": [
      "        anio           nfactor  p2b$01  p2b$02  p2b$03  p2c$01  p2c$02  \\\n",
      "0       2019   189.08625793457     0.0     0.0     0.0       0       0   \n",
      "1       2019  174.897232055664     0.0     0.0     0.0       0       0   \n",
      "2       2019  94.5431289672852     0.0     0.0     0.0       0       0   \n",
      "3       2019   189.08625793457     0.0     0.0     0.0       0       0   \n",
      "4       2019  199.320114135742     0.0     1.0     1.0       0       0   \n",
      "...      ...               ...     ...     ...     ...     ...     ...   \n",
      "103295  2021  1551.50557596244     0.0     0.0     0.0       0       0   \n",
      "103296  2021  1181.02595147838     0.0     0.0     0.0       0       0   \n",
      "103297  2021   954.03738812405     0.0     0.0     0.0       0       0   \n",
      "103298  2021  868.885668543834     0.0     0.0     0.0       0       0   \n",
      "103299  2021    706.6200700185     0.0     0.0     0.0       0       0   \n",
      "\n",
      "        p2c$03 nivel_corrupcion  \n",
      "0            0    No corrupción  \n",
      "1            0    No corrupción  \n",
      "2            0    No corrupción  \n",
      "3            0    No corrupción  \n",
      "4            0    No corrupción  \n",
      "...        ...              ...  \n",
      "103295       0    No corrupción  \n",
      "103296       0    No corrupción  \n",
      "103297       0    No corrupción  \n",
      "103298       0    No corrupción  \n",
      "103299       0    No corrupción  \n",
      "\n",
      "[103300 rows x 9 columns]\n"
     ]
    }
   ],
   "source": [
    "data[cols_corrupcion_utilizadas] = data[cols_corrupcion_utilizadas].fillna(0).astype(int)\n",
    "print(data)"
   ]
  },
  {
   "cell_type": "code",
   "execution_count": 86,
   "id": "91503aed-d16c-4230-b78c-48ff631fa7d7",
   "metadata": {
    "tags": []
   },
   "outputs": [],
   "source": [
    "# Función para clasificar corrupción con 4 categorías\n",
    "# 1: No experimentó corrupción\n",
    "# 2: Bajo (1 institución)\n",
    "# 3: Medio (2 instituciones)\n",
    "# 4: Alto (3 instituciones)\n",
    "def clasificar_corrupcion(df, cols_tramite_utilizadas, cols_corrupcion_utilizadas):\n",
    "    # Filtrar observaciones con trámites\n",
    "    df = df[df[cols_tramite].eq(1).any(axis=1)]\n",
    "def clasificar_corrupcion(df, cols_tramite_utilizadas, cols_corrupcion_utilizadas):\n",
    "    # Filtrar observaciones con trámites\n",
    "    df['nivel_corrupcion'] = 'No corrupción'\n",
    "    df.loc[df[cols_corrupcion_utilizadas].isin([1]).any(axis=1), 'nivel_corrupcion'] = 'Bajo'\n",
    "    df.loc[df[cols_corrupcion_utilizadas].isin([1]).sum(axis=1) == 2, 'nivel_corrupcion'] = 'Medio'\n",
    "    df.loc[df[cols_corrupcion_utilizadas].isin([1]).sum(axis=1) == 3, 'nivel_corrupcion'] = 'Alto'\n",
    "    return df"
   ]
  },
  {
   "cell_type": "code",
   "execution_count": 87,
   "id": "8105145f-94ab-46e2-be39-a51594c4a61d",
   "metadata": {
    "tags": []
   },
   "outputs": [
    {
     "name": "stdout",
     "output_type": "stream",
     "text": [
      "        anio           nfactor  p2b$01  p2b$02  p2b$03  p2c$01  p2c$02  \\\n",
      "0       2019   189.08625793457     0.0     0.0     0.0       0       0   \n",
      "1       2019  174.897232055664     0.0     0.0     0.0       0       0   \n",
      "2       2019  94.5431289672852     0.0     0.0     0.0       0       0   \n",
      "3       2019   189.08625793457     0.0     0.0     0.0       0       0   \n",
      "4       2019  199.320114135742     0.0     1.0     1.0       0       0   \n",
      "...      ...               ...     ...     ...     ...     ...     ...   \n",
      "103295  2021  1551.50557596244     0.0     0.0     0.0       0       0   \n",
      "103296  2021  1181.02595147838     0.0     0.0     0.0       0       0   \n",
      "103297  2021   954.03738812405     0.0     0.0     0.0       0       0   \n",
      "103298  2021  868.885668543834     0.0     0.0     0.0       0       0   \n",
      "103299  2021    706.6200700185     0.0     0.0     0.0       0       0   \n",
      "\n",
      "        p2c$03 nivel_corrupcion  \n",
      "0            0    No corrupción  \n",
      "1            0    No corrupción  \n",
      "2            0    No corrupción  \n",
      "3            0    No corrupción  \n",
      "4            0    No corrupción  \n",
      "...        ...              ...  \n",
      "103295       0    No corrupción  \n",
      "103296       0    No corrupción  \n",
      "103297       0    No corrupción  \n",
      "103298       0    No corrupción  \n",
      "103299       0    No corrupción  \n",
      "\n",
      "[103300 rows x 9 columns]\n"
     ]
    }
   ],
   "source": [
    "print(data)"
   ]
  },
  {
   "cell_type": "code",
   "execution_count": 88,
   "id": "48d5c893-94c3-46d6-ae53-c9795879c03c",
   "metadata": {
    "tags": []
   },
   "outputs": [],
   "source": [
    "data = clasificar_corrupcion(data, cols_tramite_utilizadas, cols_corrupcion_utilizadas)"
   ]
  },
  {
   "cell_type": "code",
   "execution_count": 89,
   "id": "564508d3-95c7-4195-90c0-7ae7d7d85e6a",
   "metadata": {
    "tags": []
   },
   "outputs": [
    {
     "name": "stdout",
     "output_type": "stream",
     "text": [
      "        anio           nfactor  p2b$01  p2b$02  p2b$03  p2c$01  p2c$02  \\\n",
      "0       2019   189.08625793457     0.0     0.0     0.0       0       0   \n",
      "1       2019  174.897232055664     0.0     0.0     0.0       0       0   \n",
      "2       2019  94.5431289672852     0.0     0.0     0.0       0       0   \n",
      "3       2019   189.08625793457     0.0     0.0     0.0       0       0   \n",
      "4       2019  199.320114135742     0.0     1.0     1.0       0       0   \n",
      "...      ...               ...     ...     ...     ...     ...     ...   \n",
      "103295  2021  1551.50557596244     0.0     0.0     0.0       0       0   \n",
      "103296  2021  1181.02595147838     0.0     0.0     0.0       0       0   \n",
      "103297  2021   954.03738812405     0.0     0.0     0.0       0       0   \n",
      "103298  2021  868.885668543834     0.0     0.0     0.0       0       0   \n",
      "103299  2021    706.6200700185     0.0     0.0     0.0       0       0   \n",
      "\n",
      "        p2c$03 nivel_corrupcion  \n",
      "0            0    No corrupción  \n",
      "1            0    No corrupción  \n",
      "2            0    No corrupción  \n",
      "3            0    No corrupción  \n",
      "4            0    No corrupción  \n",
      "...        ...              ...  \n",
      "103295       0    No corrupción  \n",
      "103296       0    No corrupción  \n",
      "103297       0    No corrupción  \n",
      "103298       0    No corrupción  \n",
      "103299       0    No corrupción  \n",
      "\n",
      "[103300 rows x 9 columns]\n"
     ]
    }
   ],
   "source": [
    "print(data)"
   ]
  },
  {
   "cell_type": "code",
   "execution_count": 90,
   "id": "f26d5f82-6fbb-41fb-b7e5-8f0efcb5a97d",
   "metadata": {
    "tags": []
   },
   "outputs": [
    {
     "data": {
      "image/png": "[encoded data removed]",
      "text/plain": [
       "<Figure size 1200x800 with 1 Axes>"
      ]
     },
     "metadata": {},
     "output_type": "display_data"
    }
   ],
   "source": [
    "data_agrupada = (\n",
    "    data.groupby(['anio', 'nivel_corrupcion'])\n",
    "    .size()\n",
    "    .reset_index(name='count')  # Contar las observaciones\n",
    ")\n",
    "\n",
    "# Crear el gráfico de barras\n",
    "plt.figure(figsize=(12, 8))\n",
    "sns.barplot(\n",
    "    x='anio',\n",
    "    y='count',\n",
    "    hue='nivel_corrupcion',\n",
    "    data=data_agrupada,\n",
    "    palette='viridis'\n",
    ")\n",
    "plt.title(\"Distribución de Nivel de Corrupción por Año\")\n",
    "plt.xlabel(\"Año\")\n",
    "plt.ylabel(\"Cantidad de Observaciones\")\n",
    "plt.legend(title=\"Nivel de Corrupción\")\n",
    "plt.show()"
   ]
  },
  {
   "cell_type": "code",
   "execution_count": null,
   "id": "4dcd5d98-6bbe-427e-b68a-59f96abbee93",
   "metadata": {},
   "outputs": [],
   "source": []
  }
 ],
 "metadata": {
  "kernelspec": {
   "display_name": "Python 3 (ipykernel)",
   "language": "python",
   "name": "python3"
  },
  "language_info": {
   "codemirror_mode": {
    "name": "ipython",
    "version": 3
   },
   "file_extension": ".py",
   "mimetype": "text/x-python",
   "name": "python",
   "nbconvert_exporter": "python",
   "pygments_lexer": "ipython3",
   "version": "3.11.5"
  }
 },
 "nbformat": 4,
 "nbformat_minor": 5
}
